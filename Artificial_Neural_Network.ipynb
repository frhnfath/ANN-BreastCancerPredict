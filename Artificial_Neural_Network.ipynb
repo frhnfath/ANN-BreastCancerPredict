{
  "nbformat": 4,
  "nbformat_minor": 0,
  "metadata": {
    "colab": {
      "name": "Artificial Neural Network.ipynb",
      "provenance": []
    },
    "kernelspec": {
      "name": "python3",
      "display_name": "Python 3"
    },
    "language_info": {
      "name": "python"
    }
  },
  "cells": [
    {
      "cell_type": "markdown",
      "source": [
        "Input required libraries"
      ],
      "metadata": {
        "id": "zEpuMeJvv_Kc"
      }
    },
    {
      "cell_type": "code",
      "metadata": {
        "id": "UbhGhEyyJ9VL"
      },
      "source": [
        "import numpy as np\n",
        "import pandas as pd\n",
        "import os\n",
        "import tensorflow as tf\n",
        "import seaborn as sns\n",
        "import matplotlib.pyplot as plt\n",
        "from tensorflow import keras\n",
        "from keras.models import Sequential\n",
        "from keras.layers import Dense, Dropout\n",
        "from sklearn.preprocessing import LabelEncoder\n",
        "from sklearn.model_selection import train_test_split\n",
        "from sklearn.preprocessing import StandardScaler\n",
        "from sklearn.metrics import confusion_matrix\n",
        "from sklearn.decomposition import PCA\n",
        "from sklearn.metrics import classification_report"
      ],
      "execution_count": null,
      "outputs": []
    },
    {
      "cell_type": "markdown",
      "source": [
        "Input Dataset and see the first of 5 dataset to check if the data has abnormality"
      ],
      "metadata": {
        "id": "NZXzwsdBwGvy"
      }
    },
    {
      "cell_type": "code",
      "metadata": {
        "colab": {
          "base_uri": "https://localhost:8080/",
          "height": 270
        },
        "id": "vkuihsjLR8H3",
        "outputId": "629e1903-c4a3-48e6-d0b1-19ecb1a91638"
      },
      "source": [
        "df = pd.read_csv('datasetBreastCancer.csv')\n",
        "df = df.loc[:, ~df.columns.str.contains('^Unnamed')]\n",
        "df.head(5)"
      ],
      "execution_count": null,
      "outputs": [
        {
          "output_type": "execute_result",
          "data": {
            "text/html": [
              "\n",
              "  <div id=\"df-ac8320fe-6e9d-4c6a-a9be-e7eb12a000b6\">\n",
              "    <div class=\"colab-df-container\">\n",
              "      <div>\n",
              "<style scoped>\n",
              "    .dataframe tbody tr th:only-of-type {\n",
              "        vertical-align: middle;\n",
              "    }\n",
              "\n",
              "    .dataframe tbody tr th {\n",
              "        vertical-align: top;\n",
              "    }\n",
              "\n",
              "    .dataframe thead th {\n",
              "        text-align: right;\n",
              "    }\n",
              "</style>\n",
              "<table border=\"1\" class=\"dataframe\">\n",
              "  <thead>\n",
              "    <tr style=\"text-align: right;\">\n",
              "      <th></th>\n",
              "      <th>id</th>\n",
              "      <th>diagnosis</th>\n",
              "      <th>radius_mean</th>\n",
              "      <th>texture_mean</th>\n",
              "      <th>perimeter_mean</th>\n",
              "      <th>area_mean</th>\n",
              "      <th>smoothness_mean</th>\n",
              "      <th>compactness_mean</th>\n",
              "      <th>concavity_mean</th>\n",
              "      <th>concavepoints_mean</th>\n",
              "      <th>symmetry_mean</th>\n",
              "      <th>fractal_dimension_mean</th>\n",
              "      <th>radius_se</th>\n",
              "      <th>texture_se</th>\n",
              "      <th>perimeter_se</th>\n",
              "      <th>area_se</th>\n",
              "      <th>smoothness_se</th>\n",
              "      <th>compactness_se</th>\n",
              "      <th>concavity_se</th>\n",
              "      <th>concavepoints_se</th>\n",
              "      <th>symmetry_se</th>\n",
              "      <th>fractal_dimension_se</th>\n",
              "      <th>radius_worst</th>\n",
              "      <th>texture_worst</th>\n",
              "      <th>perimeter_worst</th>\n",
              "      <th>area_worst</th>\n",
              "      <th>smoothness_worst</th>\n",
              "      <th>compactness_worst</th>\n",
              "      <th>concavity_worst</th>\n",
              "      <th>concavepoints_worst</th>\n",
              "      <th>symmetry_worst</th>\n",
              "      <th>fractal_dimension_worst</th>\n",
              "    </tr>\n",
              "  </thead>\n",
              "  <tbody>\n",
              "    <tr>\n",
              "      <th>0</th>\n",
              "      <td>842302</td>\n",
              "      <td>M</td>\n",
              "      <td>17.99</td>\n",
              "      <td>10.38</td>\n",
              "      <td>122.80</td>\n",
              "      <td>1001.0</td>\n",
              "      <td>0.11840</td>\n",
              "      <td>0.27760</td>\n",
              "      <td>0.3001</td>\n",
              "      <td>0.14710</td>\n",
              "      <td>0.2419</td>\n",
              "      <td>0.07871</td>\n",
              "      <td>1.0950</td>\n",
              "      <td>0.9053</td>\n",
              "      <td>8.589</td>\n",
              "      <td>153.40</td>\n",
              "      <td>0.006399</td>\n",
              "      <td>0.04904</td>\n",
              "      <td>0.05373</td>\n",
              "      <td>0.01587</td>\n",
              "      <td>0.03003</td>\n",
              "      <td>0.006193</td>\n",
              "      <td>25.38</td>\n",
              "      <td>17.33</td>\n",
              "      <td>184.60</td>\n",
              "      <td>2019.0</td>\n",
              "      <td>0.1622</td>\n",
              "      <td>0.6656</td>\n",
              "      <td>0.7119</td>\n",
              "      <td>0.2654</td>\n",
              "      <td>0.4601</td>\n",
              "      <td>0.11890</td>\n",
              "    </tr>\n",
              "    <tr>\n",
              "      <th>1</th>\n",
              "      <td>842517</td>\n",
              "      <td>M</td>\n",
              "      <td>20.57</td>\n",
              "      <td>17.77</td>\n",
              "      <td>132.90</td>\n",
              "      <td>1326.0</td>\n",
              "      <td>0.08474</td>\n",
              "      <td>0.07864</td>\n",
              "      <td>0.0869</td>\n",
              "      <td>0.07017</td>\n",
              "      <td>0.1812</td>\n",
              "      <td>0.05667</td>\n",
              "      <td>0.5435</td>\n",
              "      <td>0.7339</td>\n",
              "      <td>3.398</td>\n",
              "      <td>74.08</td>\n",
              "      <td>0.005225</td>\n",
              "      <td>0.01308</td>\n",
              "      <td>0.01860</td>\n",
              "      <td>0.01340</td>\n",
              "      <td>0.01389</td>\n",
              "      <td>0.003532</td>\n",
              "      <td>24.99</td>\n",
              "      <td>23.41</td>\n",
              "      <td>158.80</td>\n",
              "      <td>1956.0</td>\n",
              "      <td>0.1238</td>\n",
              "      <td>0.1866</td>\n",
              "      <td>0.2416</td>\n",
              "      <td>0.1860</td>\n",
              "      <td>0.2750</td>\n",
              "      <td>0.08902</td>\n",
              "    </tr>\n",
              "    <tr>\n",
              "      <th>2</th>\n",
              "      <td>84300903</td>\n",
              "      <td>M</td>\n",
              "      <td>19.69</td>\n",
              "      <td>21.25</td>\n",
              "      <td>130.00</td>\n",
              "      <td>1203.0</td>\n",
              "      <td>0.10960</td>\n",
              "      <td>0.15990</td>\n",
              "      <td>0.1974</td>\n",
              "      <td>0.12790</td>\n",
              "      <td>0.2069</td>\n",
              "      <td>0.05999</td>\n",
              "      <td>0.7456</td>\n",
              "      <td>0.7869</td>\n",
              "      <td>4.585</td>\n",
              "      <td>94.03</td>\n",
              "      <td>0.006150</td>\n",
              "      <td>0.04006</td>\n",
              "      <td>0.03832</td>\n",
              "      <td>0.02058</td>\n",
              "      <td>0.02250</td>\n",
              "      <td>0.004571</td>\n",
              "      <td>23.57</td>\n",
              "      <td>25.53</td>\n",
              "      <td>152.50</td>\n",
              "      <td>1709.0</td>\n",
              "      <td>0.1444</td>\n",
              "      <td>0.4245</td>\n",
              "      <td>0.4504</td>\n",
              "      <td>0.2430</td>\n",
              "      <td>0.3613</td>\n",
              "      <td>0.08758</td>\n",
              "    </tr>\n",
              "    <tr>\n",
              "      <th>3</th>\n",
              "      <td>84348301</td>\n",
              "      <td>M</td>\n",
              "      <td>11.42</td>\n",
              "      <td>20.38</td>\n",
              "      <td>77.58</td>\n",
              "      <td>386.1</td>\n",
              "      <td>0.14250</td>\n",
              "      <td>0.28390</td>\n",
              "      <td>0.2414</td>\n",
              "      <td>0.10520</td>\n",
              "      <td>0.2597</td>\n",
              "      <td>0.09744</td>\n",
              "      <td>0.4956</td>\n",
              "      <td>1.1560</td>\n",
              "      <td>3.445</td>\n",
              "      <td>27.23</td>\n",
              "      <td>0.009110</td>\n",
              "      <td>0.07458</td>\n",
              "      <td>0.05661</td>\n",
              "      <td>0.01867</td>\n",
              "      <td>0.05963</td>\n",
              "      <td>0.009208</td>\n",
              "      <td>14.91</td>\n",
              "      <td>26.50</td>\n",
              "      <td>98.87</td>\n",
              "      <td>567.7</td>\n",
              "      <td>0.2098</td>\n",
              "      <td>0.8663</td>\n",
              "      <td>0.6869</td>\n",
              "      <td>0.2575</td>\n",
              "      <td>0.6638</td>\n",
              "      <td>0.17300</td>\n",
              "    </tr>\n",
              "    <tr>\n",
              "      <th>4</th>\n",
              "      <td>84358402</td>\n",
              "      <td>M</td>\n",
              "      <td>20.29</td>\n",
              "      <td>14.34</td>\n",
              "      <td>135.10</td>\n",
              "      <td>1297.0</td>\n",
              "      <td>0.10030</td>\n",
              "      <td>0.13280</td>\n",
              "      <td>0.1980</td>\n",
              "      <td>0.10430</td>\n",
              "      <td>0.1809</td>\n",
              "      <td>0.05883</td>\n",
              "      <td>0.7572</td>\n",
              "      <td>0.7813</td>\n",
              "      <td>5.438</td>\n",
              "      <td>94.44</td>\n",
              "      <td>0.011490</td>\n",
              "      <td>0.02461</td>\n",
              "      <td>0.05688</td>\n",
              "      <td>0.01885</td>\n",
              "      <td>0.01756</td>\n",
              "      <td>0.005115</td>\n",
              "      <td>22.54</td>\n",
              "      <td>16.67</td>\n",
              "      <td>152.20</td>\n",
              "      <td>1575.0</td>\n",
              "      <td>0.1374</td>\n",
              "      <td>0.2050</td>\n",
              "      <td>0.4000</td>\n",
              "      <td>0.1625</td>\n",
              "      <td>0.2364</td>\n",
              "      <td>0.07678</td>\n",
              "    </tr>\n",
              "  </tbody>\n",
              "</table>\n",
              "</div>\n",
              "      <button class=\"colab-df-convert\" onclick=\"convertToInteractive('df-ac8320fe-6e9d-4c6a-a9be-e7eb12a000b6')\"\n",
              "              title=\"Convert this dataframe to an interactive table.\"\n",
              "              style=\"display:none;\">\n",
              "        \n",
              "  <svg xmlns=\"http://www.w3.org/2000/svg\" height=\"24px\"viewBox=\"0 0 24 24\"\n",
              "       width=\"24px\">\n",
              "    <path d=\"M0 0h24v24H0V0z\" fill=\"none\"/>\n",
              "    <path d=\"M18.56 5.44l.94 2.06.94-2.06 2.06-.94-2.06-.94-.94-2.06-.94 2.06-2.06.94zm-11 1L8.5 8.5l.94-2.06 2.06-.94-2.06-.94L8.5 2.5l-.94 2.06-2.06.94zm10 10l.94 2.06.94-2.06 2.06-.94-2.06-.94-.94-2.06-.94 2.06-2.06.94z\"/><path d=\"M17.41 7.96l-1.37-1.37c-.4-.4-.92-.59-1.43-.59-.52 0-1.04.2-1.43.59L10.3 9.45l-7.72 7.72c-.78.78-.78 2.05 0 2.83L4 21.41c.39.39.9.59 1.41.59.51 0 1.02-.2 1.41-.59l7.78-7.78 2.81-2.81c.8-.78.8-2.07 0-2.86zM5.41 20L4 18.59l7.72-7.72 1.47 1.35L5.41 20z\"/>\n",
              "  </svg>\n",
              "      </button>\n",
              "      \n",
              "  <style>\n",
              "    .colab-df-container {\n",
              "      display:flex;\n",
              "      flex-wrap:wrap;\n",
              "      gap: 12px;\n",
              "    }\n",
              "\n",
              "    .colab-df-convert {\n",
              "      background-color: #E8F0FE;\n",
              "      border: none;\n",
              "      border-radius: 50%;\n",
              "      cursor: pointer;\n",
              "      display: none;\n",
              "      fill: #1967D2;\n",
              "      height: 32px;\n",
              "      padding: 0 0 0 0;\n",
              "      width: 32px;\n",
              "    }\n",
              "\n",
              "    .colab-df-convert:hover {\n",
              "      background-color: #E2EBFA;\n",
              "      box-shadow: 0px 1px 2px rgba(60, 64, 67, 0.3), 0px 1px 3px 1px rgba(60, 64, 67, 0.15);\n",
              "      fill: #174EA6;\n",
              "    }\n",
              "\n",
              "    [theme=dark] .colab-df-convert {\n",
              "      background-color: #3B4455;\n",
              "      fill: #D2E3FC;\n",
              "    }\n",
              "\n",
              "    [theme=dark] .colab-df-convert:hover {\n",
              "      background-color: #434B5C;\n",
              "      box-shadow: 0px 1px 3px 1px rgba(0, 0, 0, 0.15);\n",
              "      filter: drop-shadow(0px 1px 2px rgba(0, 0, 0, 0.3));\n",
              "      fill: #FFFFFF;\n",
              "    }\n",
              "  </style>\n",
              "\n",
              "      <script>\n",
              "        const buttonEl =\n",
              "          document.querySelector('#df-ac8320fe-6e9d-4c6a-a9be-e7eb12a000b6 button.colab-df-convert');\n",
              "        buttonEl.style.display =\n",
              "          google.colab.kernel.accessAllowed ? 'block' : 'none';\n",
              "\n",
              "        async function convertToInteractive(key) {\n",
              "          const element = document.querySelector('#df-ac8320fe-6e9d-4c6a-a9be-e7eb12a000b6');\n",
              "          const dataTable =\n",
              "            await google.colab.kernel.invokeFunction('convertToInteractive',\n",
              "                                                     [key], {});\n",
              "          if (!dataTable) return;\n",
              "\n",
              "          const docLinkHtml = 'Like what you see? Visit the ' +\n",
              "            '<a target=\"_blank\" href=https://colab.research.google.com/notebooks/data_table.ipynb>data table notebook</a>'\n",
              "            + ' to learn more about interactive tables.';\n",
              "          element.innerHTML = '';\n",
              "          dataTable['output_type'] = 'display_data';\n",
              "          await google.colab.output.renderOutput(dataTable, element);\n",
              "          const docLink = document.createElement('div');\n",
              "          docLink.innerHTML = docLinkHtml;\n",
              "          element.appendChild(docLink);\n",
              "        }\n",
              "      </script>\n",
              "    </div>\n",
              "  </div>\n",
              "  "
            ],
            "text/plain": [
              "         id diagnosis  ...  symmetry_worst  fractal_dimension_worst\n",
              "0    842302         M  ...          0.4601                  0.11890\n",
              "1    842517         M  ...          0.2750                  0.08902\n",
              "2  84300903         M  ...          0.3613                  0.08758\n",
              "3  84348301         M  ...          0.6638                  0.17300\n",
              "4  84358402         M  ...          0.2364                  0.07678\n",
              "\n",
              "[5 rows x 32 columns]"
            ]
          },
          "metadata": {},
          "execution_count": 4
        }
      ]
    },
    {
      "cell_type": "markdown",
      "source": [
        "check how big dataset"
      ],
      "metadata": {
        "id": "kvGX4y9uwP2M"
      }
    },
    {
      "cell_type": "code",
      "metadata": {
        "colab": {
          "base_uri": "https://localhost:8080/"
        },
        "id": "Mt-foRL7kk99",
        "outputId": "fbd87d52-5a44-4f57-f3c6-8de9cf04973e"
      },
      "source": [
        "\n",
        "print(\"Data shape is:\", df.shape[0], \"x\", df.shape[1])"
      ],
      "execution_count": null,
      "outputs": [
        {
          "output_type": "stream",
          "name": "stdout",
          "text": [
            "Data shape is: 569 x 32\n"
          ]
        }
      ]
    },
    {
      "cell_type": "code",
      "metadata": {
        "colab": {
          "base_uri": "https://localhost:8080/"
        },
        "id": "-OFvlJcskSUX",
        "outputId": "fd3f19aa-f231-44ce-cad8-196930ea7fa5"
      },
      "source": [
        "df.info()"
      ],
      "execution_count": null,
      "outputs": [
        {
          "output_type": "stream",
          "name": "stdout",
          "text": [
            "<class 'pandas.core.frame.DataFrame'>\n",
            "RangeIndex: 569 entries, 0 to 568\n",
            "Data columns (total 32 columns):\n",
            " #   Column                   Non-Null Count  Dtype  \n",
            "---  ------                   --------------  -----  \n",
            " 0   id                       569 non-null    int64  \n",
            " 1   diagnosis                569 non-null    object \n",
            " 2   radius_mean              569 non-null    float64\n",
            " 3   texture_mean             569 non-null    float64\n",
            " 4   perimeter_mean           569 non-null    float64\n",
            " 5   area_mean                569 non-null    float64\n",
            " 6   smoothness_mean          569 non-null    float64\n",
            " 7   compactness_mean         569 non-null    float64\n",
            " 8   concavity_mean           569 non-null    float64\n",
            " 9   concavepoints_mean       569 non-null    float64\n",
            " 10  symmetry_mean            569 non-null    float64\n",
            " 11  fractal_dimension_mean   569 non-null    float64\n",
            " 12  radius_se                569 non-null    float64\n",
            " 13  texture_se               569 non-null    float64\n",
            " 14  perimeter_se             569 non-null    float64\n",
            " 15  area_se                  569 non-null    float64\n",
            " 16  smoothness_se            569 non-null    float64\n",
            " 17  compactness_se           569 non-null    float64\n",
            " 18  concavity_se             569 non-null    float64\n",
            " 19  concavepoints_se         569 non-null    float64\n",
            " 20  symmetry_se              569 non-null    float64\n",
            " 21  fractal_dimension_se     569 non-null    float64\n",
            " 22  radius_worst             569 non-null    float64\n",
            " 23  texture_worst            569 non-null    float64\n",
            " 24  perimeter_worst          569 non-null    float64\n",
            " 25  area_worst               569 non-null    float64\n",
            " 26  smoothness_worst         569 non-null    float64\n",
            " 27  compactness_worst        569 non-null    float64\n",
            " 28  concavity_worst          569 non-null    float64\n",
            " 29  concavepoints_worst      569 non-null    float64\n",
            " 30  symmetry_worst           569 non-null    float64\n",
            " 31  fractal_dimension_worst  569 non-null    float64\n",
            "dtypes: float64(30), int64(1), object(1)\n",
            "memory usage: 142.4+ KB\n"
          ]
        }
      ]
    },
    {
      "cell_type": "code",
      "metadata": {
        "colab": {
          "base_uri": "https://localhost:8080/"
        },
        "id": "Ql503beFmqm5",
        "outputId": "c6472bf8-085c-4dc0-c343-8309d72b714f"
      },
      "source": [
        "df.isnull().sum()"
      ],
      "execution_count": null,
      "outputs": [
        {
          "output_type": "execute_result",
          "data": {
            "text/plain": [
              "id                         0\n",
              "diagnosis                  0\n",
              "radius_mean                0\n",
              "texture_mean               0\n",
              "perimeter_mean             0\n",
              "area_mean                  0\n",
              "smoothness_mean            0\n",
              "compactness_mean           0\n",
              "concavity_mean             0\n",
              "concavepoints_mean         0\n",
              "symmetry_mean              0\n",
              "fractal_dimension_mean     0\n",
              "radius_se                  0\n",
              "texture_se                 0\n",
              "perimeter_se               0\n",
              "area_se                    0\n",
              "smoothness_se              0\n",
              "compactness_se             0\n",
              "concavity_se               0\n",
              "concavepoints_se           0\n",
              "symmetry_se                0\n",
              "fractal_dimension_se       0\n",
              "radius_worst               0\n",
              "texture_worst              0\n",
              "perimeter_worst            0\n",
              "area_worst                 0\n",
              "smoothness_worst           0\n",
              "compactness_worst          0\n",
              "concavity_worst            0\n",
              "concavepoints_worst        0\n",
              "symmetry_worst             0\n",
              "fractal_dimension_worst    0\n",
              "dtype: int64"
            ]
          },
          "metadata": {},
          "execution_count": 7
        }
      ]
    },
    {
      "cell_type": "markdown",
      "metadata": {
        "id": "gd7h-eWYpq6o"
      },
      "source": [
        "Prepare Data, split data to training set and test set, then scaling the data and transform into X_train and X_test"
      ]
    },
    {
      "cell_type": "code",
      "metadata": {
        "id": "bskTn4kJpwj0"
      },
      "source": [
        "X = df.iloc[:, 2:].values\n",
        "Y = df.iloc[:, 1].values\n",
        "le = LabelEncoder()\n",
        "Y = le.fit_transform(Y)\n",
        "\n",
        "# Splitting Dataset to Training Set and Test Set\n",
        "X_train, X_test, Y_train, Y_test = train_test_split(X, Y, test_size = 0.2, random_state = 0)\n",
        "\n",
        "# Scaling\n",
        "sc = StandardScaler()\n",
        "sc.fit(X_train)\n",
        "\n",
        "X_train = sc.transform(X_train)\n",
        "X_test = sc.transform(X_test)"
      ],
      "execution_count": null,
      "outputs": []
    },
    {
      "cell_type": "markdown",
      "source": [
        "**Finding Best Feature**\n",
        "for computers such amount of data isn't that big, but there can be cases, when dimensional reduction can be important. In this process, using Principal Component Analysis to reduce dimensionality of the data"
      ],
      "metadata": {
        "id": "eYxRO3b-wmuL"
      }
    },
    {
      "cell_type": "code",
      "source": [
        "pca = PCA(n_components=30)\n",
        "pca.fit(X_train)\n",
        "\n",
        "plt.plot(np.cumsum(pca.explained_variance_ratio_))\n",
        "plt.xlabel('Number of components')\n",
        "plt.ylabel('Cumulative explained variance')"
      ],
      "metadata": {
        "colab": {
          "base_uri": "https://localhost:8080/",
          "height": 297
        },
        "id": "evpPCI2Fg0zi",
        "outputId": "150798d4-8108-40d4-8f6d-072ee08b1027"
      },
      "execution_count": null,
      "outputs": [
        {
          "output_type": "execute_result",
          "data": {
            "text/plain": [
              "Text(0, 0.5, 'Cumulative explained variance')"
            ]
          },
          "metadata": {},
          "execution_count": 9
        },
        {
          "output_type": "display_data",
          "data": {
            "image/png": "[encoded data removed]",
            "text/plain": [
              "<Figure size 432x288 with 1 Axes>"
            ]
          },
          "metadata": {
            "needs_background": "light"
          }
        }
      ]
    },
    {
      "cell_type": "markdown",
      "source": [
        "In plot above we can see that cumulative explained variance is very high near 10 and then it increases very slowly. That means that data describing changes is mostly contained in 10 components. We need to evaluate trade-offs before we choose number of components we use further. I choose 10 to check how it will work as it seems to have most of the data."
      ],
      "metadata": {
        "id": "SdPOllJEx-Cs"
      }
    },
    {
      "cell_type": "code",
      "source": [
        "NCOMPONENTS = 10\n",
        "\n",
        "pca = PCA(n_components=NCOMPONENTS)\n",
        "X_pca_train = pca.fit_transform(X_train)\n",
        "X_pca_test = pca.transf orm(X_test)\n",
        "pca_std = np.std(X_pca_train)\n",
        "\n",
        "print(X_train.shape)\n",
        "print(X_pca_train.shape)"
      ],
      "metadata": {
        "colab": {
          "base_uri": "https://localhost:8080/"
        },
        "id": "18h4MCGzhOte",
        "outputId": "c03121a2-091d-4fa1-d01e-2fa849e8dad4"
      },
      "execution_count": null,
      "outputs": [
        {
          "output_type": "stream",
          "name": "stdout",
          "text": [
            "(455, 30)\n",
            "(455, 10)\n"
          ]
        }
      ]
    },
    {
      "cell_type": "markdown",
      "metadata": {
        "id": "k3EjzwooowW8"
      },
      "source": [
        "Starting Input Layer and Hidden Layer"
      ]
    },
    {
      "cell_type": "code",
      "metadata": {
        "id": "sXJtuWuHo0mX"
      },
      "source": [
        "# Initial Input & Hidden Layer\n",
        "model = Sequential()\n",
        "\n",
        "# Input Layer and first hidden layer\n",
        "model.add(Dense(16, activation='relu', kernel_initializer='uniform', input_dim=NCOMPONENTS))\n",
        "\n",
        "# Adding doptout to avoid overfitting\n",
        "model.add(Dropout(rate=0.1))\n",
        "\n",
        "# Add 2nd hidden layer\n",
        "model.add(Dense(8, kernel_initializer='uniform', activation='relu'))\n",
        "\n",
        "# Adding dropout to avoid overfitting\n",
        "model.add(Dropout(rate=0.1))"
      ],
      "execution_count": null,
      "outputs": []
    },
    {
      "cell_type": "markdown",
      "metadata": {
        "id": "AMJxf18ypSP1"
      },
      "source": [
        "Output Layer"
      ]
    },
    {
      "cell_type": "code",
      "metadata": {
        "id": "eO-ZgOAqpVP0"
      },
      "source": [
        "model.add(Dense(units=1, kernel_initializer='uniform', activation='sigmoid'))"
      ],
      "execution_count": null,
      "outputs": []
    },
    {
      "cell_type": "markdown",
      "metadata": {
        "id": "vfGKD8s4wydr"
      },
      "source": [
        "Compile Artificial Neural Network"
      ]
    },
    {
      "cell_type": "code",
      "metadata": {
        "id": "_Xo6VW3kw12d"
      },
      "source": [
        "model.compile(optimizer='adam', loss='binary_crossentropy', metrics='accuracy')"
      ],
      "execution_count": null,
      "outputs": []
    },
    {
      "cell_type": "code",
      "source": [
        "model.summary()"
      ],
      "metadata": {
        "id": "Wr67z6cfoWq6",
        "colab": {
          "base_uri": "https://localhost:8080/"
        },
        "outputId": "91ac0985-f24e-4be1-83c2-1f2a8b9e5d22"
      },
      "execution_count": null,
      "outputs": [
        {
          "output_type": "stream",
          "name": "stdout",
          "text": [
            "Model: \"sequential\"\n",
            "_________________________________________________________________\n",
            " Layer (type)                Output Shape              Param #   \n",
            "=================================================================\n",
            " dense (Dense)               (None, 16)                176       \n",
            "                                                                 \n",
            " dropout (Dropout)           (None, 16)                0         \n",
            "                                                                 \n",
            " dense_1 (Dense)             (None, 8)                 136       \n",
            "                                                                 \n",
            " dropout_1 (Dropout)         (None, 8)                 0         \n",
            "                                                                 \n",
            " dense_2 (Dense)             (None, 1)                 9         \n",
            "                                                                 \n",
            "=================================================================\n",
            "Total params: 321\n",
            "Trainable params: 321\n",
            "Non-trainable params: 0\n",
            "_________________________________________________________________\n"
          ]
        }
      ]
    },
    {
      "cell_type": "markdown",
      "metadata": {
        "id": "zH8Dp6WhxB0X"
      },
      "source": [
        "Fitting to Training Set"
      ]
    },
    {
      "cell_type": "code",
      "metadata": {
        "colab": {
          "base_uri": "https://localhost:8080/"
        },
        "id": "KQHsgVICxFta",
        "outputId": "eb84e5a9-ae62-4bbc-905c-729db55aafd5"
      },
      "source": [
        "history = model.fit(X_pca_train, Y_train, batch_size=32, epochs=50, validation_split=0.2,verbose=1)"
      ],
      "execution_count": null,
      "outputs": [
        {
          "output_type": "stream",
          "name": "stdout",
          "text": [
            "Epoch 1/50\n",
            "12/12 [==============================] - 1s 20ms/step - loss: 0.6920 - accuracy: 0.6456 - val_loss: 0.6908 - val_accuracy: 0.6044\n",
            "Epoch 2/50\n",
            "12/12 [==============================] - 0s 4ms/step - loss: 0.6889 - accuracy: 0.6456 - val_loss: 0.6871 - val_accuracy: 0.6154\n",
            "Epoch 3/50\n",
            "12/12 [==============================] - 0s 4ms/step - loss: 0.6837 - accuracy: 0.6841 - val_loss: 0.6804 - val_accuracy: 0.6923\n",
            "Epoch 4/50\n",
            "12/12 [==============================] - 0s 5ms/step - loss: 0.6746 - accuracy: 0.7830 - val_loss: 0.6680 - val_accuracy: 0.8352\n",
            "Epoch 5/50\n",
            "12/12 [==============================] - 0s 5ms/step - loss: 0.6589 - accuracy: 0.8654 - val_loss: 0.6473 - val_accuracy: 0.9341\n",
            "Epoch 6/50\n",
            "12/12 [==============================] - 0s 5ms/step - loss: 0.6331 - accuracy: 0.9203 - val_loss: 0.6157 - val_accuracy: 0.9560\n",
            "Epoch 7/50\n",
            "12/12 [==============================] - 0s 5ms/step - loss: 0.5980 - accuracy: 0.9423 - val_loss: 0.5714 - val_accuracy: 0.9670\n",
            "Epoch 8/50\n",
            "12/12 [==============================] - 0s 5ms/step - loss: 0.5472 - accuracy: 0.9588 - val_loss: 0.5159 - val_accuracy: 0.9890\n",
            "Epoch 9/50\n",
            "12/12 [==============================] - 0s 4ms/step - loss: 0.4884 - accuracy: 0.9698 - val_loss: 0.4509 - val_accuracy: 0.9890\n",
            "Epoch 10/50\n",
            "12/12 [==============================] - 0s 4ms/step - loss: 0.4228 - accuracy: 0.9698 - val_loss: 0.3831 - val_accuracy: 0.9890\n",
            "Epoch 11/50\n",
            "12/12 [==============================] - 0s 4ms/step - loss: 0.3606 - accuracy: 0.9698 - val_loss: 0.3190 - val_accuracy: 0.9890\n",
            "Epoch 12/50\n",
            "12/12 [==============================] - 0s 5ms/step - loss: 0.3023 - accuracy: 0.9753 - val_loss: 0.2629 - val_accuracy: 0.9890\n",
            "Epoch 13/50\n",
            "12/12 [==============================] - 0s 4ms/step - loss: 0.2553 - accuracy: 0.9698 - val_loss: 0.2169 - val_accuracy: 1.0000\n",
            "Epoch 14/50\n",
            "12/12 [==============================] - 0s 4ms/step - loss: 0.2103 - accuracy: 0.9753 - val_loss: 0.1812 - val_accuracy: 1.0000\n",
            "Epoch 15/50\n",
            "12/12 [==============================] - 0s 6ms/step - loss: 0.1838 - accuracy: 0.9698 - val_loss: 0.1532 - val_accuracy: 1.0000\n",
            "Epoch 16/50\n",
            "12/12 [==============================] - 0s 5ms/step - loss: 0.1587 - accuracy: 0.9753 - val_loss: 0.1319 - val_accuracy: 1.0000\n",
            "Epoch 17/50\n",
            "12/12 [==============================] - 0s 4ms/step - loss: 0.1420 - accuracy: 0.9780 - val_loss: 0.1149 - val_accuracy: 1.0000\n",
            "Epoch 18/50\n",
            "12/12 [==============================] - 0s 6ms/step - loss: 0.1336 - accuracy: 0.9698 - val_loss: 0.1026 - val_accuracy: 1.0000\n",
            "Epoch 19/50\n",
            "12/12 [==============================] - 0s 6ms/step - loss: 0.1241 - accuracy: 0.9780 - val_loss: 0.0942 - val_accuracy: 1.0000\n",
            "Epoch 20/50\n",
            "12/12 [==============================] - 0s 6ms/step - loss: 0.1126 - accuracy: 0.9808 - val_loss: 0.0870 - val_accuracy: 1.0000\n",
            "Epoch 21/50\n",
            "12/12 [==============================] - 0s 7ms/step - loss: 0.1056 - accuracy: 0.9725 - val_loss: 0.0801 - val_accuracy: 1.0000\n",
            "Epoch 22/50\n",
            "12/12 [==============================] - 0s 5ms/step - loss: 0.0976 - accuracy: 0.9808 - val_loss: 0.0742 - val_accuracy: 1.0000\n",
            "Epoch 23/50\n",
            "12/12 [==============================] - 0s 6ms/step - loss: 0.0866 - accuracy: 0.9808 - val_loss: 0.0697 - val_accuracy: 1.0000\n",
            "Epoch 24/50\n",
            "12/12 [==============================] - 0s 5ms/step - loss: 0.0893 - accuracy: 0.9780 - val_loss: 0.0655 - val_accuracy: 1.0000\n",
            "Epoch 25/50\n",
            "12/12 [==============================] - 0s 6ms/step - loss: 0.0911 - accuracy: 0.9780 - val_loss: 0.0620 - val_accuracy: 1.0000\n",
            "Epoch 26/50\n",
            "12/12 [==============================] - 0s 6ms/step - loss: 0.0845 - accuracy: 0.9808 - val_loss: 0.0587 - val_accuracy: 1.0000\n",
            "Epoch 27/50\n",
            "12/12 [==============================] - 0s 5ms/step - loss: 0.0860 - accuracy: 0.9780 - val_loss: 0.0560 - val_accuracy: 1.0000\n",
            "Epoch 28/50\n",
            "12/12 [==============================] - 0s 5ms/step - loss: 0.0793 - accuracy: 0.9753 - val_loss: 0.0533 - val_accuracy: 1.0000\n",
            "Epoch 29/50\n",
            "12/12 [==============================] - 0s 5ms/step - loss: 0.0803 - accuracy: 0.9863 - val_loss: 0.0511 - val_accuracy: 1.0000\n",
            "Epoch 30/50\n",
            "12/12 [==============================] - 0s 6ms/step - loss: 0.0790 - accuracy: 0.9780 - val_loss: 0.0492 - val_accuracy: 1.0000\n",
            "Epoch 31/50\n",
            "12/12 [==============================] - 0s 4ms/step - loss: 0.0633 - accuracy: 0.9863 - val_loss: 0.0473 - val_accuracy: 1.0000\n",
            "Epoch 32/50\n",
            "12/12 [==============================] - 0s 5ms/step - loss: 0.0706 - accuracy: 0.9835 - val_loss: 0.0451 - val_accuracy: 1.0000\n",
            "Epoch 33/50\n",
            "12/12 [==============================] - 0s 5ms/step - loss: 0.0725 - accuracy: 0.9780 - val_loss: 0.0432 - val_accuracy: 1.0000\n",
            "Epoch 34/50\n",
            "12/12 [==============================] - 0s 4ms/step - loss: 0.0737 - accuracy: 0.9808 - val_loss: 0.0415 - val_accuracy: 1.0000\n",
            "Epoch 35/50\n",
            "12/12 [==============================] - 0s 4ms/step - loss: 0.0677 - accuracy: 0.9835 - val_loss: 0.0426 - val_accuracy: 0.9890\n",
            "Epoch 36/50\n",
            "12/12 [==============================] - 0s 6ms/step - loss: 0.0652 - accuracy: 0.9780 - val_loss: 0.0415 - val_accuracy: 0.9890\n",
            "Epoch 37/50\n",
            "12/12 [==============================] - 0s 6ms/step - loss: 0.0694 - accuracy: 0.9835 - val_loss: 0.0405 - val_accuracy: 0.9890\n",
            "Epoch 38/50\n",
            "12/12 [==============================] - 0s 4ms/step - loss: 0.0615 - accuracy: 0.9835 - val_loss: 0.0393 - val_accuracy: 0.9890\n",
            "Epoch 39/50\n",
            "12/12 [==============================] - 0s 4ms/step - loss: 0.0624 - accuracy: 0.9863 - val_loss: 0.0385 - val_accuracy: 0.9890\n",
            "Epoch 40/50\n",
            "12/12 [==============================] - 0s 4ms/step - loss: 0.0606 - accuracy: 0.9835 - val_loss: 0.0376 - val_accuracy: 1.0000\n",
            "Epoch 41/50\n",
            "12/12 [==============================] - 0s 4ms/step - loss: 0.0672 - accuracy: 0.9808 - val_loss: 0.0368 - val_accuracy: 1.0000\n",
            "Epoch 42/50\n",
            "12/12 [==============================] - 0s 6ms/step - loss: 0.0610 - accuracy: 0.9863 - val_loss: 0.0365 - val_accuracy: 0.9890\n",
            "Epoch 43/50\n",
            "12/12 [==============================] - 0s 4ms/step - loss: 0.0624 - accuracy: 0.9835 - val_loss: 0.0359 - val_accuracy: 1.0000\n",
            "Epoch 44/50\n",
            "12/12 [==============================] - 0s 4ms/step - loss: 0.0601 - accuracy: 0.9863 - val_loss: 0.0358 - val_accuracy: 1.0000\n",
            "Epoch 45/50\n",
            "12/12 [==============================] - 0s 4ms/step - loss: 0.0675 - accuracy: 0.9808 - val_loss: 0.0349 - val_accuracy: 1.0000\n",
            "Epoch 46/50\n",
            "12/12 [==============================] - 0s 5ms/step - loss: 0.0587 - accuracy: 0.9835 - val_loss: 0.0349 - val_accuracy: 1.0000\n",
            "Epoch 47/50\n",
            "12/12 [==============================] - 0s 5ms/step - loss: 0.0626 - accuracy: 0.9835 - val_loss: 0.0347 - val_accuracy: 1.0000\n",
            "Epoch 48/50\n",
            "12/12 [==============================] - 0s 4ms/step - loss: 0.0642 - accuracy: 0.9835 - val_loss: 0.0350 - val_accuracy: 1.0000\n",
            "Epoch 49/50\n",
            "12/12 [==============================] - 0s 6ms/step - loss: 0.0608 - accuracy: 0.9835 - val_loss: 0.0352 - val_accuracy: 0.9890\n",
            "Epoch 50/50\n",
            "12/12 [==============================] - 0s 5ms/step - loss: 0.0573 - accuracy: 0.9863 - val_loss: 0.0348 - val_accuracy: 0.9890\n"
          ]
        }
      ]
    },
    {
      "cell_type": "code",
      "source": [
        "# summarize history for accuracy\n",
        "plt.plot(history.history['accuracy'])\n",
        "plt.plot(history.history['val_accuracy'])\n",
        "plt.title('model accuracy')\n",
        "plt.ylabel('accuracy')\n",
        "plt.xlabel('epoch')\n",
        "plt.legend(['train', 'test'], loc='lower right')\n",
        "plt.show()"
      ],
      "metadata": {
        "colab": {
          "base_uri": "https://localhost:8080/",
          "height": 295
        },
        "id": "Ph0ILANL4be_",
        "outputId": "24a38351-3848-496f-ae93-ba58db01048a"
      },
      "execution_count": null,
      "outputs": [
        {
          "output_type": "display_data",
          "data": {
            "image/png": "[encoded data removed]",
            "text/plain": [
              "<Figure size 432x288 with 1 Axes>"
            ]
          },
          "metadata": {
            "needs_background": "light"
          }
        }
      ]
    },
    {
      "cell_type": "code",
      "source": [
        "# summarize history for loss\n",
        "plt.plot(history.history['loss'])\n",
        "plt.plot(history.history['val_loss'])\n",
        "plt.title('model loss')\n",
        "plt.ylabel('loss')\n",
        "plt.xlabel('epoch')\n",
        "plt.legend(['train', 'test'], loc='lower left')\n",
        "plt.show()"
      ],
      "metadata": {
        "colab": {
          "base_uri": "https://localhost:8080/",
          "height": 295
        },
        "id": "6jGaSzUA4wER",
        "outputId": "17c49302-7628-4ad8-e94b-abd454105d39"
      },
      "execution_count": null,
      "outputs": [
        {
          "output_type": "display_data",
          "data": {
            "image/png": "[encoded data removed]",
            "text/plain": [
              "<Figure size 432x288 with 1 Axes>"
            ]
          },
          "metadata": {
            "needs_background": "light"
          }
        }
      ]
    },
    {
      "cell_type": "markdown",
      "metadata": {
        "id": "UobCPEkK7q_R"
      },
      "source": [
        "Predicting Test"
      ]
    },
    {
      "cell_type": "code",
      "source": [
        "model.evaluate(X_pca_test, Y_test, verbose=2)"
      ],
      "metadata": {
        "colab": {
          "base_uri": "https://localhost:8080/"
        },
        "id": "ogMhxu0-6jv7",
        "outputId": "d7295362-93d1-4af5-9f3b-6279a79ba219"
      },
      "execution_count": null,
      "outputs": [
        {
          "output_type": "stream",
          "name": "stdout",
          "text": [
            "4/4 - 0s - loss: 0.1030 - accuracy: 0.9649 - 19ms/epoch - 5ms/step\n"
          ]
        },
        {
          "output_type": "execute_result",
          "data": {
            "text/plain": [
              "[0.10295790433883667, 0.9649122953414917]"
            ]
          },
          "metadata": {},
          "execution_count": 18
        }
      ]
    },
    {
      "cell_type": "code",
      "source": [
        ""
      ],
      "metadata": {
        "id": "kq3X_9SDknh1"
      },
      "execution_count": null,
      "outputs": []
    },
    {
      "cell_type": "code",
      "source": [
        "y_pred = model.predict(X_pca_test, verbose=0)\n",
        "y_pred"
      ],
      "metadata": {
        "colab": {
          "base_uri": "https://localhost:8080/"
        },
        "id": "Oy7Id6uzADya",
        "outputId": "e2977a6b-40f3-4aca-ead2-3f2da6875289"
      },
      "execution_count": null,
      "outputs": [
        {
          "output_type": "execute_result",
          "data": {
            "text/plain": [
              "array([[9.96610880e-01],\n",
              "       [3.72110605e-02],\n",
              "       [2.67302990e-03],\n",
              "       [1.00144148e-02],\n",
              "       [1.42893195e-03],\n",
              "       [3.60426307e-03],\n",
              "       [1.60360336e-03],\n",
              "       [1.54376030e-03],\n",
              "       [7.33762063e-05],\n",
              "       [2.04536154e-05],\n",
              "       [6.47856295e-02],\n",
              "       [5.80473244e-02],\n",
              "       [2.41667032e-04],\n",
              "       [6.41692519e-01],\n",
              "       [4.80377555e-01],\n",
              "       [9.87940729e-01],\n",
              "       [3.01378965e-03],\n",
              "       [9.99906600e-01],\n",
              "       [9.98961031e-01],\n",
              "       [9.99998927e-01],\n",
              "       [9.97143090e-01],\n",
              "       [9.88284588e-01],\n",
              "       [9.00006294e-03],\n",
              "       [3.00765038e-03],\n",
              "       [9.97457743e-01],\n",
              "       [1.94904208e-03],\n",
              "       [1.82390213e-04],\n",
              "       [9.92637992e-01],\n",
              "       [2.80115008e-03],\n",
              "       [9.99962687e-01],\n",
              "       [3.17424536e-04],\n",
              "       [9.98815119e-01],\n",
              "       [1.09014362e-01],\n",
              "       [9.98273253e-01],\n",
              "       [2.30810329e-05],\n",
              "       [9.97771382e-01],\n",
              "       [1.17583573e-02],\n",
              "       [9.98144984e-01],\n",
              "       [9.66089964e-03],\n",
              "       [9.96503890e-01],\n",
              "       [9.71237659e-01],\n",
              "       [1.74462795e-04],\n",
              "       [9.28902268e-01],\n",
              "       [3.26991081e-04],\n",
              "       [4.12138104e-02],\n",
              "       [9.99996603e-01],\n",
              "       [9.21124865e-06],\n",
              "       [1.97261870e-02],\n",
              "       [1.15957856e-03],\n",
              "       [9.99874890e-01],\n",
              "       [9.99141872e-01],\n",
              "       [9.80877221e-01],\n",
              "       [9.99684751e-01],\n",
              "       [1.68293715e-03],\n",
              "       [3.76260281e-03],\n",
              "       [5.32537699e-04],\n",
              "       [2.70414352e-03],\n",
              "       [7.21311569e-03],\n",
              "       [8.82664323e-03],\n",
              "       [9.99998510e-01],\n",
              "       [9.94644761e-01],\n",
              "       [9.97491002e-01],\n",
              "       [1.89214945e-04],\n",
              "       [3.72007489e-03],\n",
              "       [9.95183825e-01],\n",
              "       [6.06510341e-02],\n",
              "       [1.00000000e+00],\n",
              "       [9.99985337e-01],\n",
              "       [9.99975681e-01],\n",
              "       [1.45810843e-03],\n",
              "       [4.36174214e-01],\n",
              "       [9.99901891e-01],\n",
              "       [3.49739194e-03],\n",
              "       [8.37703347e-01],\n",
              "       [9.99984264e-01],\n",
              "       [2.23452449e-02],\n",
              "       [1.73479319e-04],\n",
              "       [2.39157975e-02],\n",
              "       [4.69654799e-04],\n",
              "       [9.36906945e-05],\n",
              "       [9.88001108e-01],\n",
              "       [1.00000000e+00],\n",
              "       [9.99849200e-01],\n",
              "       [2.89827585e-04],\n",
              "       [9.87453103e-01],\n",
              "       [1.38938427e-03],\n",
              "       [4.49120998e-04],\n",
              "       [4.05899154e-05],\n",
              "       [9.99720812e-01],\n",
              "       [1.00000000e+00],\n",
              "       [1.26302242e-04],\n",
              "       [5.04087508e-01],\n",
              "       [7.51200557e-01],\n",
              "       [9.99984145e-01],\n",
              "       [1.20264292e-03],\n",
              "       [3.91519070e-03],\n",
              "       [9.99985099e-01],\n",
              "       [1.52992010e-02],\n",
              "       [6.62773848e-03],\n",
              "       [4.05350327e-03],\n",
              "       [1.15757121e-06],\n",
              "       [6.13701344e-03],\n",
              "       [1.00544393e-02],\n",
              "       [1.06040090e-01],\n",
              "       [9.99802947e-01],\n",
              "       [1.21405721e-03],\n",
              "       [9.99977589e-01],\n",
              "       [1.05342925e-01],\n",
              "       [3.80822033e-01],\n",
              "       [5.87353110e-03],\n",
              "       [1.58082247e-02],\n",
              "       [9.99889970e-01],\n",
              "       [9.99569178e-01],\n",
              "       [6.94867373e-02]], dtype=float32)"
            ]
          },
          "metadata": {},
          "execution_count": 23
        }
      ]
    },
    {
      "cell_type": "code",
      "source": [
        "print(classification_report(Y_test, y_pred.round(), labels=[0,1]))"
      ],
      "metadata": {
        "colab": {
          "base_uri": "https://localhost:8080/"
        },
        "id": "oS8bEod4lYE_",
        "outputId": "a9dfe41d-fa57-4375-d578-c773eb89d419"
      },
      "execution_count": null,
      "outputs": [
        {
          "output_type": "stream",
          "name": "stdout",
          "text": [
            "              precision    recall  f1-score   support\n",
            "\n",
            "           0       0.97      0.97      0.97        67\n",
            "           1       0.96      0.96      0.96        47\n",
            "\n",
            "    accuracy                           0.96       114\n",
            "   macro avg       0.96      0.96      0.96       114\n",
            "weighted avg       0.96      0.96      0.96       114\n",
            "\n"
          ]
        }
      ]
    }
  ]
}